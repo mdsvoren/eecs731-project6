{
 "cells": [
  {
   "cell_type": "markdown",
   "metadata": {},
   "source": [
    "## Introduction\n",
    "In this notebook, we will perform anomaly detection on a dataset the examines the volume of tweet mentions received by Google in 5 minute intervals. This could be useful in the real world because Twitter is the first place customers go to complain. Therefore, if there are an unusually high number of mentions (without a major product launch or other big event), there could be an issue with the service that needs to be attended to immediately. Having an anomaly detection model could notice this pattern and alert the appropriate individuals."
   ]
  },
  {
   "cell_type": "markdown",
   "metadata": {},
   "source": [
    "### 1) Data Preprocessing & Cleaning"
   ]
  },
  {
   "cell_type": "code",
   "execution_count": 34,
   "metadata": {},
   "outputs": [
    {
     "name": "stdout",
     "output_type": "stream",
     "text": [
      "             timestamp  value\n",
      "0  2015-02-26 21:42:53     35\n",
      "1  2015-02-26 21:47:53     41\n",
      "2  2015-02-26 21:52:53     32\n",
      "3  2015-02-26 21:57:53     36\n",
      "4  2015-02-26 22:02:53     32\n"
     ]
    }
   ],
   "source": [
    "import numpy as np\n",
    "import pandas as pd\n",
    "\n",
    "original = pd.read_csv(\"../data/Twitter_volume_GOOG.csv\")\n",
    "print(original.head(5))"
   ]
  },
  {
   "cell_type": "code",
   "execution_count": 35,
   "metadata": {},
   "outputs": [
    {
     "name": "stdout",
     "output_type": "stream",
     "text": [
      "<class 'pandas.core.frame.DataFrame'>\n",
      "RangeIndex: 15842 entries, 0 to 15841\n",
      "Data columns (total 2 columns):\n",
      "timestamp    15842 non-null object\n",
      "value        15842 non-null int64\n",
      "dtypes: int64(1), object(1)\n",
      "memory usage: 247.6+ KB\n"
     ]
    }
   ],
   "source": [
    "original.info()"
   ]
  },
  {
   "cell_type": "markdown",
   "metadata": {},
   "source": [
    "Notice that the timestamp column is not a datetime. We want to convert this to a datetime so we can group all of the tweets in one day together to get a consistent time period for comparison. The sum of each day's tweets will become the value."
   ]
  },
  {
   "cell_type": "code",
   "execution_count": 36,
   "metadata": {},
   "outputs": [
    {
     "data": {
      "text/html": [
       "<div>\n",
       "<style scoped>\n",
       "    .dataframe tbody tr th:only-of-type {\n",
       "        vertical-align: middle;\n",
       "    }\n",
       "\n",
       "    .dataframe tbody tr th {\n",
       "        vertical-align: top;\n",
       "    }\n",
       "\n",
       "    .dataframe thead th {\n",
       "        text-align: right;\n",
       "    }\n",
       "</style>\n",
       "<table border=\"1\" class=\"dataframe\">\n",
       "  <thead>\n",
       "    <tr style=\"text-align: right;\">\n",
       "      <th></th>\n",
       "      <th>timestamp</th>\n",
       "      <th>value</th>\n",
       "    </tr>\n",
       "  </thead>\n",
       "  <tbody>\n",
       "    <tr>\n",
       "      <th>0</th>\n",
       "      <td>2015-02-26</td>\n",
       "      <td>35</td>\n",
       "    </tr>\n",
       "    <tr>\n",
       "      <th>1</th>\n",
       "      <td>2015-02-26</td>\n",
       "      <td>41</td>\n",
       "    </tr>\n",
       "    <tr>\n",
       "      <th>2</th>\n",
       "      <td>2015-02-26</td>\n",
       "      <td>32</td>\n",
       "    </tr>\n",
       "    <tr>\n",
       "      <th>3</th>\n",
       "      <td>2015-02-26</td>\n",
       "      <td>36</td>\n",
       "    </tr>\n",
       "    <tr>\n",
       "      <th>4</th>\n",
       "      <td>2015-02-26</td>\n",
       "      <td>32</td>\n",
       "    </tr>\n",
       "  </tbody>\n",
       "</table>\n",
       "</div>"
      ],
      "text/plain": [
       "    timestamp  value\n",
       "0  2015-02-26     35\n",
       "1  2015-02-26     41\n",
       "2  2015-02-26     32\n",
       "3  2015-02-26     36\n",
       "4  2015-02-26     32"
      ]
     },
     "execution_count": 36,
     "metadata": {},
     "output_type": "execute_result"
    }
   ],
   "source": [
    "original['timestamp'] = pd.to_datetime(original['timestamp']) \n",
    "original.sort_values(['timestamp'], inplace=True)\n",
    "\n",
    "groupedDate = pd.DataFrame(original['timestamp'].dt.date)\n",
    "groupedDate['value'] = original['value']\n",
    "groupedDate.groupby(['timestamp'])['value'].sum()\n",
    "groupedDate.head()"
   ]
  },
  {
   "cell_type": "code",
   "execution_count": 37,
   "metadata": {},
   "outputs": [
    {
     "data": {
      "image/png": "[encoded data removed]",
      "text/plain": [
       "<Figure size 432x288 with 1 Axes>"
      ]
     },
     "metadata": {
      "needs_background": "light"
     },
     "output_type": "display_data"
    }
   ],
   "source": [
    "import matplotlib\n",
    "import matplotlib.pyplot as plt\n",
    "import matplotlib.dates as mdates\n",
    "import datetime\n",
    "\n",
    "fig, ax = plt.subplots()\n",
    "ax.plot(groupedDate['timestamp'], groupedDate['value'])\n",
    "years = mdates.YearLocator()\n",
    "yearsFmt = mdates.DateFormatter('%Y')\n",
    "ax.xaxis.set_major_locator(years)\n",
    "ax.xaxis.set_major_formatter(yearsFmt)\n",
    "\n",
    "\n",
    "ax.set(xlabel='Time', ylabel='Tweet volume',\n",
    "       title='Google Tweet Mentions by Day')\n",
    "ax.grid()\n",
    "plt.show()\n"
   ]
  },
  {
   "cell_type": "markdown",
   "metadata": {},
   "source": [
    "We grouped the data by days to simplify its graphical appearance. As can be seen in the graph, which graphs 3 months of data, there are several extreme outliers that would be considered anomalies. Additionally, there doesn't appear to be a trend that we need to consider over the course of the three months. "
   ]
  },
  {
   "cell_type": "markdown",
   "metadata": {},
   "source": [
    "### 2) Models and Results\n",
    "Next we will generate models to predict them. There are not many features and we can even throw out the date, so as to solely focus on the tweet volume in both a stastical way and classification model. First, we will do an interquartile range. This is a quick statistical method that is an effective way to group data and is easy to understand."
   ]
  },
  {
   "cell_type": "code",
   "execution_count": 38,
   "metadata": {},
   "outputs": [
    {
     "name": "stdout",
     "output_type": "stream",
     "text": [
      "Median: 16.0\n",
      "Interquartile Range: 15.0\n",
      "Q25: 11.0\n",
      "Q75: 26.0\n"
     ]
    }
   ],
   "source": [
    "q75, q25 = np.percentile(original['value'], [75 ,25])\n",
    "iqr = q75 - q25\n",
    "totalMedian = original['value'].median()\n",
    "print('Median: ' + str(totalMedian))\n",
    "print('Interquartile Range: ' + str(iqr))\n",
    "print('Q25: ' + str(q25))\n",
    "print('Q75: ' + str(q75))"
   ]
  },
  {
   "cell_type": "markdown",
   "metadata": {},
   "source": [
    "Now that we have the interquartile range, we can find the outliers by using the 1.5xIQR rule. The rule states that if a data point is more than 1.5 * IQR below the first quartile or above the third quartile, then it is an outlier. Let's calculate those threshholds below."
   ]
  },
  {
   "cell_type": "code",
   "execution_count": 39,
   "metadata": {},
   "outputs": [
    {
     "name": "stdout",
     "output_type": "stream",
     "text": [
      "Low Outliers are below: -11.5\n",
      "High Outliers are above: 48.5\n",
      "Outliers to normal ratio: timestamp    0.052771\n",
      "value        0.052771\n",
      "dtype: float64\n"
     ]
    }
   ],
   "source": [
    "#low bound\n",
    "low = q25 - 1.5 * iqr\n",
    "high = q75 + 1.5 * iqr\n",
    "print('Low Outliers are below: ' + str(low))\n",
    "print('High Outliers are above: ' + str(high))\n",
    "\n",
    "count = original.count()\n",
    "highCount = original[original['value'] > high].count()\n",
    "print('Outliers to normal ratio: ' + str(highCount / count))"
   ]
  },
  {
   "cell_type": "markdown",
   "metadata": {},
   "source": [
    "Since the low outliers are negative and we have no negative numbers in the dataset, only the high outlier number (48.5) is relevant. This means that if there are at least 49 tweets in a 5 minute period mentioning Google, then we can claim that is an outlier. That includes 5.28% of data in this dataset."
   ]
  },
  {
   "cell_type": "markdown",
   "metadata": {},
   "source": [
    "Next, lets train a clustering model to do the anomaly detection. We will generate two clusters, one which should represent the outliers and one which should represent the normal values. The KMeans algorithm is quick and fairly accurate on datasets with limited features, so it is a good choice here. To vocalize the obvious concept, most of the data should center around the mean, which represents the normal values, while outlier data, since it will likely only be upper outliers as a conclusion of the analysis above with the interquartile range, will cluster around a higher value."
   ]
  },
  {
   "cell_type": "code",
   "execution_count": 40,
   "metadata": {},
   "outputs": [
    {
     "name": "stdout",
     "output_type": "stream",
     "text": [
      "Outlier Count\n",
      "1401\n",
      "Normal Count\n",
      "14441\n",
      "Ratio\n",
      "0.09701544214389585\n"
     ]
    }
   ],
   "source": [
    "from sklearn.cluster import KMeans\n",
    "import warnings\n",
    "warnings.filterwarnings('ignore')\n",
    "\n",
    "x = original.as_matrix(columns=['value']).astype('int')\n",
    "\n",
    "kmeans = KMeans(n_clusters=2, random_state=0).fit_predict(x)\n",
    "groupedDate['Cluster'] = kmeans\n",
    "groupedDate.head()\n",
    "\n",
    "cluster1Count = groupedDate['Cluster'][groupedDate['Cluster'] ==0].count()\n",
    "print('Outlier Count')\n",
    "print(str(cluster1Count))\n",
    "cluster2Count = groupedDate['Cluster'][groupedDate['Cluster'] ==1].count()\n",
    "print('Normal Count')\n",
    "print(str(cluster2Count))\n",
    "\n",
    "print('Ratio')\n",
    "print(str(cluster1Count / cluster2Count))"
   ]
  },
  {
   "cell_type": "markdown",
   "metadata": {},
   "source": [
    "The result of the clustering algorithm shows that we have almost 10% of the data as an outlier, which is quite reasonable given the interquartile range yielded just over 5%. We can take the average of each cluster to show where the clusters are centered."
   ]
  },
  {
   "cell_type": "code",
   "execution_count": 41,
   "metadata": {},
   "outputs": [
    {
     "name": "stdout",
     "output_type": "stream",
     "text": [
      "Outlier Average:\n",
      "61.77730192719486\n",
      "Normal Average:\n",
      "16.75479537428156\n"
     ]
    }
   ],
   "source": [
    "average1 = groupedDate['value'][groupedDate['Cluster'] ==0].mean()\n",
    "average2 = groupedDate['value'][groupedDate['Cluster'] ==1].mean()\n",
    "\n",
    "print('Outlier Average:')\n",
    "print(average1)\n",
    "print('Normal Average:')\n",
    "print(average2)"
   ]
  },
  {
   "cell_type": "markdown",
   "metadata": {},
   "source": [
    "It's apparent that the 61.7 outlier average is much higher than the normal average. This is expected.\n",
    "\n",
    "### 3) Conclusion\n",
    "The two methods we used to detect anomalies both yielded similar results, giving a high confidence that they are accurate. Of course, we were using data which didn't have labels (anomaly or no-anomaly), so the two models have slightly different thresholds for what is considered an anomaly or not, observable by looking at the 10% vs 5% outlier rate. Extensions would be using other types of models such as random or isolation forest. However, since we were on using one feature, KMeans clustering appeared to work the best. We could not do classification because the data was unlabeled."
   ]
  },
  {
   "cell_type": "code",
   "execution_count": null,
   "metadata": {},
   "outputs": [],
   "source": []
  }
 ],
 "metadata": {
  "kernelspec": {
   "display_name": "Python 3",
   "language": "python",
   "name": "python3"
  },
  "language_info": {
   "codemirror_mode": {
    "name": "ipython",
    "version": 3
   },
   "file_extension": ".py",
   "mimetype": "text/x-python",
   "name": "python",
   "nbconvert_exporter": "python",
   "pygments_lexer": "ipython3",
   "version": "3.7.3"
  }
 },
 "nbformat": 4,
 "nbformat_minor": 2
}
